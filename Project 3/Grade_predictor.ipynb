{
 "cells": [
  {
   "cell_type": "code",
   "execution_count": null,
   "metadata": {
    "id": "1r2OU7KmOJN5"
   },
   "outputs": [],
   "source": [
    "import numpy as np\n",
    "import pandas as pd\n",
    "import seaborn as sns\n",
    "import matplotlib.pyplot as plt"
   ]
  },
  {
   "cell_type": "code",
   "execution_count": null,
   "metadata": {
    "colab": {
     "base_uri": "https://localhost:8080/",
     "height": 236
    },
    "id": "9yjTZaSrVO2N",
    "outputId": "ec7866e7-4067-4f5b-c8ad-a7833021da61"
   },
   "outputs": [],
   "source": [
    "df = pd.read_csv(\"Grades.csv\")\n",
    "df.head()"
   ]
  },
  {
   "cell_type": "code",
   "execution_count": null,
   "metadata": {
    "colab": {
     "base_uri": "https://localhost:8080/"
    },
    "id": "eQ49YF8sVXc9",
    "outputId": "e687f473-82b1-49bd-bf1e-c0a9d3eff934"
   },
   "outputs": [],
   "source": [
    "df.info()"
   ]
  },
  {
   "cell_type": "code",
   "execution_count": null,
   "metadata": {
    "colab": {
     "base_uri": "https://localhost:8080/"
    },
    "id": "Pp-N0AG2Vk0Y",
    "outputId": "9b38f856-9c41-4c9b-8f5d-f030c457b84b"
   },
   "outputs": [],
   "source": [
    "df.isnull().sum()"
   ]
  },
  {
   "cell_type": "code",
   "execution_count": null,
   "metadata": {
    "colab": {
     "base_uri": "https://localhost:8080/"
    },
    "id": "fVzPWelcVx0R",
    "outputId": "d84b04e1-4dfb-4079-dc9d-a5e072338e38"
   },
   "outputs": [],
   "source": [
    "df.isnull().sum().sum()"
   ]
  },
  {
   "cell_type": "markdown",
   "metadata": {
    "id": "zX1T4DhVROv0"
   },
   "source": [
    "##Clean The Data"
   ]
  },
  {
   "cell_type": "code",
   "execution_count": null,
   "metadata": {
    "colab": {
     "base_uri": "https://localhost:8080/",
     "height": 313
    },
    "id": "g7i-mGhHWBvt",
    "outputId": "70cfea41-07e8-45f9-feac-790b904ac1e5",
    "scrolled": true
   },
   "outputs": [],
   "source": [
    "# Check if there is any missing value\n",
    "\n",
    "sns.heatmap(df.isnull(), cmap='viridis')\n",
    "plt.show()"
   ]
  },
  {
   "cell_type": "code",
   "execution_count": null,
   "metadata": {
    "colab": {
     "base_uri": "https://localhost:8080/",
     "height": 392
    },
    "id": "j9RJz9uWWG-9",
    "outputId": "1c66bc3a-d8b9-4509-f5f3-014e2826aab5"
   },
   "outputs": [],
   "source": [
    "df.replace(np.nan,0, inplace = True)\n",
    "df.head(10)"
   ]
  },
  {
   "cell_type": "code",
   "execution_count": null,
   "metadata": {
    "id": "SjmTJxFhWLgu"
   },
   "outputs": [],
   "source": [
    "input = df.drop([\"CS-403\",\"CS-421\",\"CS-406\",\"CS-414\",\"CS-419\",\"CS-423\",\"CS-412\", 'MT-442',\"Seat No.\",\"CGPA\"], axis=1)\n",
    "target = df[[\"CGPA\"]]\n"
   ]
  },
  {
   "cell_type": "code",
   "execution_count": null,
   "metadata": {
    "colab": {
     "base_uri": "https://localhost:8080/",
     "height": 206
    },
    "id": "n-9WXXpWYoHf",
    "outputId": "56c35de6-9707-4e86-8d8c-d421d857109b"
   },
   "outputs": [],
   "source": [
    "target.head()"
   ]
  },
  {
   "cell_type": "code",
   "execution_count": null,
   "metadata": {
    "colab": {
     "base_uri": "https://localhost:8080/"
    },
    "id": "LDFDMByJdHMD",
    "outputId": "100bff8d-f61b-4ca6-f46f-5a8c0c2ae509"
   },
   "outputs": [],
   "source": [
    "pd.unique(df[\"PH-121\"])"
   ]
  },
  {
   "cell_type": "code",
   "execution_count": null,
   "metadata": {
    "id": "PkKVvolico4h"
   },
   "outputs": [],
   "source": [
    "grades_enc = {'B-':2.7, 'A':4, 'D':1.0, 'A-':3.7, 'B+':3.4, 'B':3.0, 'C+':2.4, 'C':2.0, 'C-':1.7, 'D+':1.4, 'WU':0.0, 'A+':4,'F':0.0,'W':0,'I':0}"
   ]
  },
  {
   "cell_type": "code",
   "execution_count": null,
   "metadata": {
    "colab": {
     "base_uri": "https://localhost:8080/"
    },
    "id": "208bCpV0Hq6e",
    "outputId": "ccf827a5-325b-42c2-ef21-80abe4f7cc20"
   },
   "outputs": [],
   "source": [
    "type(input)"
   ]
  },
  {
   "cell_type": "code",
   "execution_count": null,
   "metadata": {
    "colab": {
     "base_uri": "https://localhost:8080/",
     "height": 236
    },
    "id": "QEAAe-tmecFx",
    "outputId": "da131da7-619a-46cd-c239-1f6fd610388d"
   },
   "outputs": [],
   "source": [
    "for item in input:\n",
    "      input[item] = input[item].replace(grades_enc)\n",
    "\n",
    "input.head()"
   ]
  },
  {
   "cell_type": "code",
   "execution_count": null,
   "metadata": {
    "id": "meLTt_M5wurP"
   },
   "outputs": [],
   "source": [
    "# Concating inputs and targets for data insights\n",
    "df = pd.concat([input, target], axis=1)\n"
   ]
  },
  {
   "cell_type": "code",
   "execution_count": null,
   "metadata": {
    "colab": {
     "base_uri": "https://localhost:8080/",
     "height": 740
    },
    "id": "7SxkBubLxcAq",
    "outputId": "8315d42c-c501-4186-ba5d-8e761f96809c"
   },
   "outputs": [],
   "source": [
    "df.hist(bins=30,figsize=(30,15))\n",
    "plt.show()"
   ]
  },
  {
   "cell_type": "code",
   "execution_count": null,
   "metadata": {
    "colab": {
     "base_uri": "https://localhost:8080/",
     "height": 927
    },
    "id": "qci7U2WDy5Nd",
    "outputId": "c4988ced-48a9-45c3-e516-961e93886382"
   },
   "outputs": [],
   "source": [
    "# Looking for correlations\n",
    "plt.figure(figsize=(15,15))\n",
    "sns.heatmap(df.corr())"
   ]
  },
  {
   "cell_type": "code",
   "execution_count": null,
   "metadata": {
    "colab": {
     "base_uri": "https://localhost:8080/",
     "height": 394
    },
    "id": "wnZwJ8LyzHbz",
    "outputId": "27d97977-09e5-4c5f-ed6c-1e2c84679f12"
   },
   "outputs": [],
   "source": [
    "df.describe()"
   ]
  },
  {
   "cell_type": "code",
   "execution_count": null,
   "metadata": {
    "id": "cVEqMwazzU_R"
   },
   "outputs": [],
   "source": [
    "df.to_csv('cleaned_data.csv')"
   ]
  },
  {
   "cell_type": "code",
   "execution_count": null,
   "metadata": {
    "id": "1-Na5S6L1TWa"
   },
   "outputs": [],
   "source": [
    "# Splitting file into different columns based on our model prediction requirement\n",
    "model1_columns = []\n",
    "model2_columns = []\n",
    "model3_columns = []\n",
    "for item in [input]:\n",
    "    for i in item:\n",
    "        if i[3]=='1':\n",
    "            model1_columns.append(i)\n",
    "        elif i[3]=='2':\n",
    "            model2_columns.append(i)\n",
    "        else:\n",
    "            model3_columns.append(i)\n",
    "\n",
    "model2_columns = model1_columns + model2_columns\n",
    "model3_columns = model2_columns + model3_columns"
   ]
  },
  {
   "cell_type": "code",
   "execution_count": null,
   "metadata": {
    "id": "xJBYnZhO0rDL"
   },
   "outputs": [],
   "source": [
    "# Input data\n",
    "labels = df['CGPA'].values\n",
    "features = df[list(model1_columns)].values\n"
   ]
  },
  {
   "cell_type": "code",
   "execution_count": null,
   "metadata": {
    "id": "jExe15_B7uSR"
   },
   "outputs": [],
   "source": [
    "# Split data\n",
    "\n",
    "from sklearn.model_selection import train_test_split\n",
    "\n",
    "X_train, X_test, y_train, y_test = train_test_split(features, labels, test_size=0.30)"
   ]
  },
  {
   "cell_type": "code",
   "execution_count": null,
   "metadata": {
    "colab": {
     "base_uri": "https://localhost:8080/"
    },
    "id": "beKHXteA771V",
    "outputId": "7a64d5ef-7658-4d8d-db52-9b2c208c7ed9"
   },
   "outputs": [],
   "source": [
    "# Build a Model\n",
    "\n",
    "from sklearn import linear_model\n",
    "\n",
    "# Bulid a new Model\n",
    "lr_1 = linear_model.LinearRegression()\n",
    "\n",
    "# Train the Model\n",
    "lr_1.fit(X_train, y_train)"
   ]
  },
  {
   "cell_type": "code",
   "execution_count": null,
   "metadata": {
    "id": "hV9GOAnH78TH"
   },
   "outputs": [],
   "source": [
    "# Predict\n",
    "\n",
    "\n",
    "# Predict for training set\n",
    "y_train_predict = lr_1.predict(X_train)\n",
    "\n",
    "# Predict for training set\n",
    "y_test_predict = lr_1.predict(X_test)\n"
   ]
  },
  {
   "cell_type": "code",
   "execution_count": null,
   "metadata": {
    "colab": {
     "base_uri": "https://localhost:8080/"
    },
    "id": "BbIBLFR_nf9a",
    "outputId": "485d87af-977c-425d-9016-227d95cb5fe8"
   },
   "outputs": [],
   "source": [
    "input_lr=[]\n",
    "input_lr.append([4, 3.0, 0, 0, 0, 1.0, 4, 2.0, 0, 4, 4])\n",
    "print(input_lr )\n",
    "print(lr_1.predict(input_lr ))"
   ]
  },
  {
   "cell_type": "code",
   "execution_count": null,
   "metadata": {
    "colab": {
     "base_uri": "https://localhost:8080/"
    },
    "id": "hTrFYwLlLjlF",
    "outputId": "be16a6ac-642f-45c7-fd1d-3b0cf21c3d4d"
   },
   "outputs": [],
   "source": [
    "from sklearn.metrics import mean_squared_error , mean_absolute_error\n",
    "\n",
    "\n",
    "# model evaluation for training set\n",
    "mse_train = mean_squared_error(y_train, y_train_predict)\n",
    "mae_train = mean_absolute_error(y_train, y_train_predict)\n",
    "print(\"The model performance for training set\")\n",
    "print('RMSE is {}'.format(np.sqrt(mse_train)))\n",
    "print('MAE is {}'.format(mae_train))\n",
    "print(\"---------------------------------------\")\n",
    "\n",
    "# model evaluation for testing set\n",
    "mse_test = mean_squared_error(y_test, y_test_predict) # Return the loss it is non-negative . The best value is 0.0\n",
    "mae_test = mean_absolute_error(y_test, y_test_predict) # Return the loss it is non-negative . The best value is 0.0\n",
    "print(\"The model performance for testing set\")\n",
    "print('RMSE is {}'.format(np.sqrt(mse_test)))\n",
    "print('MAE is {}'.format(mae_test))\n",
    "\n",
    "print(\"---------------------------------------\")\n",
    "test_score= lr_1.score(X_test, y_test)# Return R2 score . The best possible score is 1.0 and it can be negative (because the model can be arbitrarily worse) \n",
    "print(\"The score of model for testing set\")\n",
    "print('Test score {}'.format(test_score.round(2)))"
   ]
  },
  {
   "cell_type": "code",
   "execution_count": null,
   "metadata": {
    "colab": {
     "base_uri": "https://localhost:8080/",
     "height": 424
    },
    "id": "SjG4h-gjLoZB",
    "outputId": "d7731645-e63b-47a5-cb93-056b3b5a028c"
   },
   "outputs": [],
   "source": [
    "compare={\"Actual\": y_test, \"Predict\": y_test_predict}\n",
    "pd.DataFrame(compare)"
   ]
  },
  {
   "cell_type": "code",
   "execution_count": null,
   "metadata": {
    "colab": {
     "base_uri": "https://localhost:8080/"
    },
    "id": "RvCUOU2aLtql",
    "outputId": "13466ac7-0c9b-4a1d-9853-7eb339a1ad99"
   },
   "outputs": [],
   "source": [
    "# Visualize the Result\n",
    "idx= np.random.choice(X_test.shape[0])\n",
    "print (\"Predicted CGPA :\", y_test_predict[idx])\n",
    "print (\"Actual CGPA :\", y_test[idx])"
   ]
  },
  {
   "cell_type": "code",
   "execution_count": null,
   "metadata": {
    "colab": {
     "base_uri": "https://localhost:8080/",
     "height": 279
    },
    "id": "RXQ-AGwuL04U",
    "outputId": "b872697f-c0b7-4020-b4a7-a809b3e3a12d"
   },
   "outputs": [],
   "source": [
    "# visualization\n",
    "plt.scatter(y_test, y_test_predict,  color='black')\n",
    "plt.scatter(y_test[idx], y_test_predict[idx])\n",
    "plt.xlabel('CGPA')\n",
    "plt.ylabel('Predicted CGPA)')\n",
    "plt.plot([df[\"CGPA\"].min(), df[\"CGPA\"].max()], [df[\"CGPA\"].min(), df[\"CGPA\"].max()], color='red')\n",
    "plt.show()"
   ]
  },
  {
   "cell_type": "code",
   "execution_count": null,
   "metadata": {
    "colab": {
     "base_uri": "https://localhost:8080/",
     "height": 334
    },
    "id": "jyYbyC5lL4-d",
    "outputId": "dbd8e64e-0e18-480e-eebe-47d8977e9e17"
   },
   "outputs": [],
   "source": [
    "plt.figure(figsize=(22,5))\n",
    "plt.scatter(y_test, y_test_predict,  color='blue')\n",
    "plt.scatter(y_train, y_train_predict,  color='Orange')\n",
    "plt.plot([df['CGPA'].min(), df['CGPA'].max()], [df['CGPA'].min(), df['CGPA'].max()], color='red')\n",
    "plt.xlabel('CGPA')\n",
    "plt.ylabel('Predicted CGPA')\n",
    "plt.show()"
   ]
  },
  {
   "cell_type": "markdown",
   "metadata": {
    "id": "WA0okGvGUSMy"
   },
   "source": [
    "##Model 2: Predict final CGPA based on GPs of first two years."
   ]
  },
  {
   "cell_type": "code",
   "execution_count": null,
   "metadata": {
    "id": "I1t_zzDmL93p"
   },
   "outputs": [],
   "source": [
    "# Input data\n",
    "labels = df['CGPA'].values\n",
    "features = df[list(model2_columns)].values"
   ]
  },
  {
   "cell_type": "code",
   "execution_count": null,
   "metadata": {
    "id": "e2H1Gv_yS_1v"
   },
   "outputs": [],
   "source": [
    "# Split data\n",
    "\n",
    "from sklearn.model_selection import train_test_split\n",
    "\n",
    "X_train, X_test, y_train, y_test = train_test_split(features, labels, test_size=0.30)"
   ]
  },
  {
   "cell_type": "code",
   "execution_count": null,
   "metadata": {
    "colab": {
     "base_uri": "https://localhost:8080/"
    },
    "id": "LC7TxMg7TDsn",
    "outputId": "6ab7dffd-9f91-4ca8-c939-ddeedc9039f0"
   },
   "outputs": [],
   "source": [
    "# Build a Model\n",
    "\n",
    "from sklearn import linear_model\n",
    "\n",
    "# Bulid a new Model\n",
    "lr_2 = linear_model.LinearRegression()\n",
    "\n",
    "# Train the Model\n",
    "lr_2.fit(X_train, y_train)"
   ]
  },
  {
   "cell_type": "code",
   "execution_count": null,
   "metadata": {
    "id": "jSDUvOIITJrX"
   },
   "outputs": [],
   "source": [
    "# Predict\n",
    "\n",
    "\n",
    "# Predict for training set\n",
    "y_train_predict = lr_2.predict(X_train)\n",
    "\n",
    "# Predict for training set\n",
    "y_test_predict = lr_2.predict(X_test)"
   ]
  },
  {
   "cell_type": "code",
   "execution_count": null,
   "metadata": {
    "colab": {
     "base_uri": "https://localhost:8080/"
    },
    "id": "1OMNyN5aTacF",
    "outputId": "a75b8471-991f-4fad-8f7e-0fac1c9bfdf8"
   },
   "outputs": [],
   "source": [
    "from sklearn.metrics import mean_squared_error , mean_absolute_error\n",
    "\n",
    "\n",
    "# model evaluation for training set\n",
    "mse_train = mean_squared_error(y_train, y_train_predict)\n",
    "mae_train = mean_absolute_error(y_train, y_train_predict)\n",
    "print(\"The model performance for training set\")\n",
    "print('RMSE is {}'.format(np.sqrt(mse_train)))\n",
    "print('MAE is {}'.format(mae_train))\n",
    "print(\"---------------------------------------\")\n",
    "\n",
    "# model evaluation for testing set\n",
    "mse_test = mean_squared_error(y_test, y_test_predict) # Return the loss it is non-negative . The best value is 0.0\n",
    "mae_test = mean_absolute_error(y_test, y_test_predict) # Return the loss it is non-negative . The best value is 0.0\n",
    "print(\"The model performance for testing set\")\n",
    "print('RMSE is {}'.format(np.sqrt(mse_test)))\n",
    "print('MAE is {}'.format(mae_test))\n",
    "\n",
    "print(\"---------------------------------------\")\n",
    "test_score= lr_2.score(X_test, y_test)# Return R2 score . The best possible score is 1.0 and it can be negative (because the model can be arbitrarily worse) \n",
    "print(\"The score of model for testing set\")\n",
    "print('Test score {}'.format(test_score.round(2)))"
   ]
  },
  {
   "cell_type": "code",
   "execution_count": null,
   "metadata": {
    "colab": {
     "base_uri": "https://localhost:8080/",
     "height": 334
    },
    "id": "Z69nnieCVVZS",
    "outputId": "03be2366-403e-49ac-8df7-b09a1057bd41"
   },
   "outputs": [],
   "source": [
    "plt.figure(figsize=(22,5))\n",
    "plt.scatter(y_test, y_test_predict,  color='blue')\n",
    "plt.scatter(y_train, y_train_predict,  color='Orange')\n",
    "plt.plot([df['CGPA'].min(), df['CGPA'].max()], [df['CGPA'].min(), df['CGPA'].max()], color='red')\n",
    "plt.xlabel('CGPA')\n",
    "plt.ylabel('Predicted CGPA')\n",
    "plt.show()"
   ]
  },
  {
   "cell_type": "markdown",
   "metadata": {
    "id": "plaBPV6RUV6G"
   },
   "source": [
    "##Model 3: Predict final CGPA based on GPs of first three years."
   ]
  },
  {
   "cell_type": "code",
   "execution_count": null,
   "metadata": {
    "id": "vKy2QWnLTqmZ"
   },
   "outputs": [],
   "source": [
    "# Input data\n",
    "labels = df['CGPA'].values\n",
    "features = df[list(model3_columns)].values"
   ]
  },
  {
   "cell_type": "code",
   "execution_count": null,
   "metadata": {
    "id": "KyeJRlqhUc1K"
   },
   "outputs": [],
   "source": [
    "# Split data\n",
    "\n",
    "from sklearn.model_selection import train_test_split\n",
    "\n",
    "X_train, X_test, y_train, y_test = train_test_split(features, labels, test_size=0.30)"
   ]
  },
  {
   "cell_type": "code",
   "execution_count": null,
   "metadata": {
    "colab": {
     "base_uri": "https://localhost:8080/"
    },
    "id": "7CCe_pMkUfhA",
    "outputId": "a5607739-934b-410f-fb7a-30246048f8cf"
   },
   "outputs": [],
   "source": [
    "# Build a Model\n",
    "\n",
    "from sklearn import linear_model\n",
    "\n",
    "# Bulid a new Model\n",
    "lr_3 = linear_model.LinearRegression()\n",
    "\n",
    "# Train the Model\n",
    "lr_3.fit(X_train, y_train)"
   ]
  },
  {
   "cell_type": "code",
   "execution_count": null,
   "metadata": {
    "id": "axX3hO-pUip8"
   },
   "outputs": [],
   "source": [
    "# Predict\n",
    "\n",
    "\n",
    "# Predict for training set\n",
    "y_train_predict = lr_3.predict(X_train)\n",
    "\n",
    "# Predict for training set\n",
    "y_test_predict = lr_3.predict(X_test)"
   ]
  },
  {
   "cell_type": "code",
   "execution_count": null,
   "metadata": {
    "colab": {
     "base_uri": "https://localhost:8080/"
    },
    "id": "oMPH4dsHUlFv",
    "outputId": "a668999b-aea1-4c56-870a-422fd28a03a7"
   },
   "outputs": [],
   "source": [
    "from sklearn.metrics import mean_squared_error , mean_absolute_error\n",
    "\n",
    "\n",
    "# model evaluation for training set\n",
    "mse_train = mean_squared_error(y_train, y_train_predict)\n",
    "mae_train = mean_absolute_error(y_train, y_train_predict)\n",
    "print(\"The model performance for training set\")\n",
    "print('RMSE is {}'.format(np.sqrt(mse_train)))\n",
    "print('MAE is {}'.format(mae_train))\n",
    "print(\"---------------------------------------\")\n",
    "\n",
    "# model evaluation for testing set\n",
    "mse_test = mean_squared_error(y_test, y_test_predict) # Return the loss it is non-negative . The best value is 0.0\n",
    "mae_test = mean_absolute_error(y_test, y_test_predict) # Return the loss it is non-negative . The best value is 0.0\n",
    "print(\"The model performance for testing set\")\n",
    "print('RMSE is {}'.format(np.sqrt(mse_test)))\n",
    "print('MAE is {}'.format(mae_test))\n",
    "\n",
    "print(\"---------------------------------------\")\n",
    "test_score= lr_3.score(X_test, y_test)# Return R2 score . The best possible score is 1.0 and it can be negative (because the model can be arbitrarily worse) \n",
    "print(\"The score of model for testing set\")\n",
    "print('Test score {}'.format(test_score.round(2)))"
   ]
  },
  {
   "cell_type": "code",
   "execution_count": null,
   "metadata": {
    "colab": {
     "base_uri": "https://localhost:8080/",
     "height": 334
    },
    "id": "OztR_IvVVZCB",
    "outputId": "4aec2431-d5ec-42c2-ad49-023d98ad6bd4"
   },
   "outputs": [],
   "source": [
    "plt.figure(figsize=(22,5))\n",
    "plt.scatter(y_test, y_test_predict,  color='blue')\n",
    "plt.scatter(y_train, y_train_predict,  color='Orange')\n",
    "plt.plot([df['CGPA'].min(), df['CGPA'].max()], [df['CGPA'].min(), df['CGPA'].max()], color='red')\n",
    "plt.xlabel('CGPA')\n",
    "plt.ylabel('Predicted CGPA')\n",
    "plt.show()"
   ]
  },
  {
   "cell_type": "code",
   "execution_count": null,
   "metadata": {
    "id": "LQPzaYP3Uo7d"
   },
   "outputs": [],
   "source": [
    "# Input data\n",
    "labels = df['CGPA'].values\n",
    "features = df[list(model1_columns)].values"
   ]
  },
  {
   "cell_type": "code",
   "execution_count": null,
   "metadata": {
    "id": "jfMNKuqriI8F"
   },
   "outputs": [],
   "source": [
    "from sklearn.model_selection import train_test_split\n",
    "\n",
    "X_train, X_test, y_train, y_test = train_test_split(features, labels, test_size=0.2, random_state=0)"
   ]
  },
  {
   "cell_type": "code",
   "execution_count": null,
   "metadata": {
    "id": "nVNs8jRsijmh"
   },
   "outputs": [],
   "source": [
    "from sklearn.ensemble import RandomForestRegressor\n",
    "\n",
    "rf_1 = RandomForestRegressor(n_estimators=20, random_state=0)\n",
    "rf_1.fit(X_train, y_train)\n",
    "y_pred = rf_1.predict(X_test)"
   ]
  },
  {
   "cell_type": "code",
   "execution_count": null,
   "metadata": {
    "colab": {
     "base_uri": "https://localhost:8080/"
    },
    "id": "8RgxATqiiyZM",
    "outputId": "27135af7-bc60-4bbb-9389-23f55645cdfb"
   },
   "outputs": [],
   "source": [
    "from sklearn import metrics\n",
    "\n",
    "print('Mean Absolute Error:', metrics.mean_absolute_error(y_test, y_pred))\n",
    "print('Mean Squared Error:', metrics.mean_squared_error(y_test, y_pred))\n",
    "print('Root Mean Squared Error:', np.sqrt(metrics.mean_squared_error(y_test, y_pred)))\n",
    "print(\"The score of model for testing set\",rf_1.score(X_test, y_test))\n",
    "\n",
    "\n"
   ]
  },
  {
   "cell_type": "code",
   "execution_count": null,
   "metadata": {
    "colab": {
     "base_uri": "https://localhost:8080/",
     "height": 1000
    },
    "id": "Ix9UURP6kQti",
    "outputId": "5e1ef536-528b-4407-ab50-fc8207b3b352"
   },
   "outputs": [],
   "source": [
    "\n",
    "from sklearn import tree\n",
    "fn=model1_columns\n",
    "cn=\"CGPA\"\n",
    "fig, axes = plt.subplots(nrows = 1,ncols = 1,figsize = (4,4), dpi=800)\n",
    "tree.plot_tree(rf_1.estimators_[0],\n",
    "               feature_names = fn, \n",
    "               class_names=cn,\n",
    "               filled = True);\n"
   ]
  },
  {
   "cell_type": "markdown",
   "metadata": {
    "id": "pqwTbnza4Uut"
   },
   "source": [
    "##Model 2: Predict final CGPA based on GPs of first two years."
   ]
  },
  {
   "cell_type": "code",
   "execution_count": null,
   "metadata": {
    "id": "KRGqhrOV3gnj"
   },
   "outputs": [],
   "source": [
    "# Input data\n",
    "labels = df['CGPA'].values\n",
    "features = df[list(model2_columns)].values"
   ]
  },
  {
   "cell_type": "code",
   "execution_count": null,
   "metadata": {
    "id": "Skqxln664llf"
   },
   "outputs": [],
   "source": [
    "from sklearn.model_selection import train_test_split\n",
    "\n",
    "X_train, X_test, y_train, y_test = train_test_split(features, labels, test_size=0.2, random_state=0)"
   ]
  },
  {
   "cell_type": "code",
   "execution_count": null,
   "metadata": {
    "id": "RoatARo-4oFu"
   },
   "outputs": [],
   "source": [
    "from sklearn.ensemble import RandomForestRegressor\n",
    "\n",
    "rf_2 = RandomForestRegressor(n_estimators=20, random_state=0)\n",
    "rf_2.fit(X_train, y_train)\n",
    "y_pred = rf_2.predict(X_test)"
   ]
  },
  {
   "cell_type": "code",
   "execution_count": null,
   "metadata": {
    "colab": {
     "base_uri": "https://localhost:8080/"
    },
    "id": "QcducJan4qSA",
    "outputId": "c1e75d72-8bd0-479a-ca88-da1e0d84db17"
   },
   "outputs": [],
   "source": [
    "from sklearn import metrics\n",
    "\n",
    "print('Mean Absolute Error:', metrics.mean_absolute_error(y_test, y_pred))\n",
    "print('Mean Squared Error:', metrics.mean_squared_error(y_test, y_pred))\n",
    "print('Root Mean Squared Error:', np.sqrt(metrics.mean_squared_error(y_test, y_pred)))\n",
    "print(\"The score of model for testing set\",rf_2.score(X_test, y_test))"
   ]
  },
  {
   "cell_type": "code",
   "execution_count": null,
   "metadata": {
    "colab": {
     "base_uri": "https://localhost:8080/",
     "height": 1000
    },
    "id": "9xzzRv424vxT",
    "outputId": "ba53b225-8194-4aad-fafd-e6c1098a6c76"
   },
   "outputs": [],
   "source": [
    "from sklearn import tree\n",
    "fn=model2_columns\n",
    "cn=\"CGPA\"\n",
    "fig, axes = plt.subplots(nrows = 1,ncols = 1,figsize = (4,4), dpi=800)\n",
    "tree.plot_tree(rf_2.estimators_[0],\n",
    "               feature_names = fn, \n",
    "               class_names=cn,\n",
    "               filled = True);"
   ]
  },
  {
   "cell_type": "code",
   "execution_count": null,
   "metadata": {
    "id": "tRRDGKwC5gtE"
   },
   "outputs": [],
   "source": [
    "# Input data\n",
    "labels = df['CGPA'].values\n",
    "features = df[list(model3_columns)].values"
   ]
  },
  {
   "cell_type": "code",
   "execution_count": null,
   "metadata": {
    "id": "7kUlBIUm5qd2"
   },
   "outputs": [],
   "source": [
    "from sklearn.model_selection import train_test_split\n",
    "\n",
    "X_train, X_test, y_train, y_test = train_test_split(features, labels, test_size=0.2, random_state=0)"
   ]
  },
  {
   "cell_type": "code",
   "execution_count": null,
   "metadata": {
    "id": "S0AyMazQ5u2B"
   },
   "outputs": [],
   "source": [
    "from sklearn.ensemble import RandomForestRegressor\n",
    "\n",
    "rf_3 = RandomForestRegressor(n_estimators=20, random_state=0)\n",
    "rf_3.fit(X_train, y_train)\n",
    "y_pred = rf_3.predict(X_test)"
   ]
  },
  {
   "cell_type": "code",
   "execution_count": null,
   "metadata": {
    "colab": {
     "base_uri": "https://localhost:8080/"
    },
    "id": "L61POu1I5yI5",
    "outputId": "5ef4fc5b-02cf-4de4-bf2a-030c5f577c67"
   },
   "outputs": [],
   "source": [
    "from sklearn import metrics\n",
    "\n",
    "print('Mean Absolute Error:', metrics.mean_absolute_error(y_test, y_pred))\n",
    "print('Mean Squared Error:', metrics.mean_squared_error(y_test, y_pred))\n",
    "print('Root Mean Squared Error:', np.sqrt(metrics.mean_squared_error(y_test, y_pred)))\n",
    "print(\"The score of model for testing set\",rf_3.score(X_test, y_test))"
   ]
  },
  {
   "cell_type": "code",
   "execution_count": null,
   "metadata": {
    "colab": {
     "base_uri": "https://localhost:8080/",
     "height": 1000
    },
    "id": "Td1TQp2H51t7",
    "outputId": "be91182d-a8b0-4be3-8550-f4bce1fd7c70"
   },
   "outputs": [],
   "source": [
    "from sklearn import tree\n",
    "fn=model3_columns\n",
    "cn=\"CGPA\"\n",
    "tree.plot_tree(rf_3.estimators_[0],\n",
    "               feature_names = fn, \n",
    "               class_names=cn,\n",
    "               filled = True);"
   ]
  }
 ],
 "metadata": {
  "colab": {
   "collapsed_sections": [],
   "name": "CS19011.ipynb",
   "provenance": []
  },
  "kernelspec": {
   "display_name": "Python 3 (ipykernel)",
   "language": "python",
   "name": "python3"
  },
  "language_info": {
   "codemirror_mode": {
    "name": "ipython",
    "version": 3
   },
   "file_extension": ".py",
   "mimetype": "text/x-python",
   "name": "python",
   "nbconvert_exporter": "python",
   "pygments_lexer": "ipython3",
   "version": "3.10.9"
  }
 },
 "nbformat": 4,
 "nbformat_minor": 1
}
